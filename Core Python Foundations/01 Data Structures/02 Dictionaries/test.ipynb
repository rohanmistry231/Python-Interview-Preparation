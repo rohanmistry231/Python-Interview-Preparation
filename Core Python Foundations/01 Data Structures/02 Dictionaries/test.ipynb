{
 "cells": [
  {
   "cell_type": "code",
   "execution_count": null,
   "id": "e6db0e50",
   "metadata": {},
   "outputs": [],
   "source": [
    "# Employee Database\n",
    "# Difficulty: Intermediate\n",
    "# Description: Store employee details in a dictionary with nested information.\n",
    "# Objective: Work with nested dictionaries and iteration.\n",
    "# Tasks:\n",
    "# Create a dictionary with 3 employees (id: {name, department}).\n",
    "# Add a new employee.\n",
    "# Print all employee names and their departments.\n",
    "# Count the number of employees.\n",
    "# Expected Output:\n",
    "# text\n",
    "\n",
    "# Copy\n",
    "# Employee 1: Alice, HR\n",
    "# Employee 2: Bob, IT\n",
    "# Employee 3: Charlie, Sales\n",
    "# Employee 4: Dana, Marketing\n",
    "# Total employees: 4\n",
    "# Concepts Covered: Nested dictionaries, items(), len().\n",
    "\n",
    "employees = {\n",
    "    1: {'name': 'Alice', 'department': 'HR'},\n",
    "    2: {'name': 'Bob', 'department': 'IT'},\n",
    "    3: {'name': 'Charlie', 'department': 'Sales'}\n",
    "}\n",
    "\n",
    "employees[4] = {'name': 'Dana', 'department': 'Marketing'}\n",
    "\n",
    "for emp_id, details "
   ]
  }
 ],
 "metadata": {
  "kernelspec": {
   "display_name": "base",
   "language": "python",
   "name": "python3"
  },
  "language_info": {
   "name": "python",
   "version": "3.12.7"
  }
 },
 "nbformat": 4,
 "nbformat_minor": 5
}
